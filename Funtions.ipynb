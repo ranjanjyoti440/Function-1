{
  "nbformat": 4,
  "nbformat_minor": 0,
  "metadata": {
    "colab": {
      "provenance": []
    },
    "kernelspec": {
      "name": "python3",
      "display_name": "Python 3"
    },
    "language_info": {
      "name": "python"
    }
  },
  "cells": [
    {
      "cell_type": "code",
      "execution_count": null,
      "metadata": {
        "id": "bWsOuxa4gZ-B"
      },
      "outputs": [],
      "source": []
    },
    {
      "cell_type": "markdown",
      "source": [],
      "metadata": {
        "id": "GpDeEvrzmpww"
      }
    },
    {
      "cell_type": "markdown",
      "source": [
        "# Functions"
      ],
      "metadata": {
        "id": "iDTtHllYmrl8"
      }
    },
    {
      "cell_type": "code",
      "source": [],
      "metadata": {
        "id": "QJbXMrZ4mx2B"
      },
      "execution_count": null,
      "outputs": []
    },
    {
      "cell_type": "markdown",
      "source": [
        "1. What is Python, and why is it popular ?\n",
        "  >Python is a high-level, general-purpose programming language known for its readability and ease of use. Its popularity stems from its versatility, extensive libraries, and a large, supportive community, making it suitable for a wide range of applications, including web development, data science, and machine learning.\n",
        "\n",
        "2. What is an interpreter in Python ?\n",
        "  >In Python, an interpreter is a program that reads and executes Python code line by line, allowing you to see the results immediately. Unlike compilers, which translate code into machine code before execution, interpreters translate and execute code at runtime.\n",
        "\n",
        "3. What are pre-defined keywords in Python ?\n",
        " >Pre-defined keywords in Python are special words that have a fixed meaning in the language. Python uses them to understand what you're trying to do in your code.\n",
        "You can't use them as variable names because they already have a specific purpose.\n",
        "Example:\n",
        "if, else, while, for, True, False, None, def, class\n",
        "\n",
        "4. Can keywords be used as variable names ?\n",
        "  > No, keywords cannot be used as variable names in Python.\n",
        "Because keywords already have a special job in Python. If you try to use them as variable names, Python will get confused and show an error.\n",
        "\n",
        "5. What is mutability in Python ?\n",
        " >Mutability in Python refers to the ability of an object to be modified after it is created. When an object is mutable, its value can be changed without creating a new object. This means that operations can directly modify the object in place.\n",
        "\n",
        "6. Why are lists mutable, but tuples are immutable ?\n",
        " >Tuples and lists are the same in every way except two: tuples use parentheses instead of square brackets, and the items in tuples cannot be modified but the items in lists can be modified . We often call lists mutable meaning they can be changed and tuples immutable meaning they cannot be changed.\n",
        "\n",
        "7. What is the difference between “==” and “is” operators in Python ?\n",
        " >The difference between == and is in Python is very important — they check different things.\n",
        "✅ ==( Equality OperatoR ):\n",
        "Checks if two variables have the same value.\n",
        "It compares the contents of the objects.\n",
        "python\n",
        "Copy\n",
        "Edit\n",
        "🔁 is (Identity Operator):\n",
        "Checks if two variables point to the exact same object in memory.\n",
        "Even if two objects have the same value, is will return False if they are different objects.\n",
        "python\n",
        "Copy\n",
        "Edit\n",
        "\n",
        "8.  What are logical operators in Python ?\n",
        "  > In Python, logical operators are used to combine or invert Boolean values (True or False). They are commonly used in conditions and control flow (like if statements).\n",
        "\n",
        "9. What is type casting in Python ?\n",
        " > Type casting in Python means converting a value from one data type to another, such as turning a string into an integer, or a float into a string.\n",
        "\n",
        "10. What is the difference between implicit and explicit type casting ?\n",
        " >The difference between implicit and explicit type casting in Python comes down to who performs the conversion — Python automatically or the programmer manually.\n",
        " Implicit Type Casting.\n",
        "\n",
        "Python does it automatically.\n",
        "\n",
        "Happens when Python safely converts one type to another during operations.\n",
        "Usually from a smaller type to a larger type (e.g., int to float)\n",
        "\n",
        "11. What is the purpose of conditional statements in Python ?\n",
        " > The purpose of conditional statements in Python is to let your program make decisions and execute different blocks of code depending on conditions.\n",
        "\n",
        "In simple terms:\n",
        "\n",
        "Conditional statements control what happens next based on what’s true or false.\n",
        "\n",
        " Common Conditional Statements in Python:\n",
        "Statement\tPurpose\n",
        "if\tRuns code only if a condition is true\n",
        "elif\tAdds more conditions if the first if is false\n",
        "else\tRuns code if none of the above conditions are true\n",
        "\n",
        "12. How does the elif statement work ?\n",
        " > The elif (short for \"else if\") statement in Python allows you to check multiple conditions in a sequence, following an initial if statement. It helps you test additional conditions if the previous if or elif conditions were not true.\n",
        "\n",
        " How elif works:\n",
        "After the if statement, if its condition is False, the program checks the next elif condition.\n",
        "\n",
        "You can have multiple elif statements to check multiple conditions.\n",
        "\n",
        "The else statement is optional and catches all other cases if none of the if or elif conditions are met.\n",
        "\n",
        "13. What is the difference between for and while loops ?\n",
        " > The difference between for and while loops in Python lies in how they execute their loop iterations and when they stop. Both are used for repeating a block of code, but they work in different ways:\n",
        "\n",
        "1. for Loop:\n",
        "Used for iterating over a sequence (such as a list, tuple, string, or range) and executing the code for each item in that sequence.\n",
        "\n",
        "It knows exactly how many times it should run, based on the sequence or range you're iterating over.\n",
        "\n",
        "14. Describe a scenario where a while loop is more suitable than a for loop.\n",
        " > A while loop is more suitable than a for loop when the number of iterations is not known in advance and you need to repeat an action based on a condition that might change during execution.\n",
        "\n",
        "Scenario: Waiting for User Input\n",
        "Imagine you are building a program that asks the user to input a valid email address. You don’t know how many times the user will need to try before entering a valid email. In this case, a while loop is ideal because you want to continue prompting the user until they provide a valid email."
      ],
      "metadata": {
        "id": "ipIpOyMPmzWa"
      }
    },
    {
      "cell_type": "markdown",
      "source": [],
      "metadata": {
        "id": "T90iVekIoBAb"
      }
    },
    {
      "cell_type": "markdown",
      "source": [],
      "metadata": {
        "id": "JKowKBtan-3s"
      }
    }
  ]
}